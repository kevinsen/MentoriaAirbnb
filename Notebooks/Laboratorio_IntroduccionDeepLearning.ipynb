{
 "cells": [
  {
   "cell_type": "markdown",
   "metadata": {},
   "source": [
    "# Laboratorio Introducción al Deep Learning:  \n",
    "## ¿A dónde realizan su primera reserva los nuevos usuarios de Airbnb?\n",
    "\n",
    "### Armado de un esquema de aprendizaje automático:\n",
    "\n",
    "En el presente laboratorio se espera que puedan poner en práctica los conocimientos adquiridos en el curso, trabajando con un conjunto de datos de clasificación. El objetivo es que se introduzcan en el desarrollo de un esquema para hacer tareas de aprendizaje automático: selección de un modelo, ajuste de hiperparámetros y evaluación.\n",
    "\n",
    "__HINT__: A modo de ayuda, se agrega la notebook `Intro_Deep_Learning_EXAMPLES.ipynb` para que puedan ver distintos modelos y como usarlos en problemas de clasificación binaria y multiclase.\n",
    "\n",
    "---\n",
    "## Librerías y Semilla"
   ]
  },
  {
   "cell_type": "code",
   "execution_count": 57,
   "metadata": {},
   "outputs": [],
   "source": [
    "%matplotlib inline\n",
    "import numpy as np\n",
    "import pandas as pd\n",
    "import matplotlib.pyplot as plt\n",
    "import seaborn as sns\n",
    "from matplotlib.colors import ListedColormap\n",
    "from ml.visualization import plot_confusion_matrix, classifier_boundary\n",
    "from sklearn.linear_model import LinearRegression, LogisticRegression, Perceptron, Ridge\n",
    "from sklearn.metrics import accuracy_score, confusion_matrix, mean_squared_error\n",
    "from sklearn.neighbors import KNeighborsClassifier\n",
    "from sklearn.preprocessing import PolynomialFeatures\n",
    "from sklearn import preprocessing\n",
    "from sklearn.utils import shuffle\n",
    "from sklearn.model_selection import train_test_split\n",
    "from sklearn.linear_model import SGDClassifier\n",
    "from sklearn.metrics import accuracy_score, classification_report, confusion_matrix\n",
    "from sklearn.model_selection import GridSearchCV, train_test_split\n",
    "import warnings\n",
    "warnings.filterwarnings('ignore')\n",
    "from mpl_toolkits.mplot3d import axes3d\n",
    "\n",
    "#Semilla\n",
    "np.random.seed(3)"
   ]
  },
  {
   "cell_type": "markdown",
   "metadata": {},
   "source": [
    "---\n",
    "## Carga de datos\n",
    "\n",
    "La celda siguiente se encarga de la carga de datos (haciendo uso de pandas). Estos serán los que se trabajarán en el resto del laboratorio."
   ]
  },
  {
   "cell_type": "code",
   "execution_count": 58,
   "metadata": {},
   "outputs": [
    {
     "name": "stdout",
     "output_type": "stream",
     "text": [
      "\n",
      "Longitud del dataset: 207386\n",
      "\n",
      "Dataset:\n"
     ]
    },
    {
     "data": {
      "text/html": [
       "<div>\n",
       "<style scoped>\n",
       "    .dataframe tbody tr th:only-of-type {\n",
       "        vertical-align: middle;\n",
       "    }\n",
       "\n",
       "    .dataframe tbody tr th {\n",
       "        vertical-align: top;\n",
       "    }\n",
       "\n",
       "    .dataframe thead th {\n",
       "        text-align: right;\n",
       "    }\n",
       "</style>\n",
       "<table border=\"1\" class=\"dataframe\">\n",
       "  <thead>\n",
       "    <tr style=\"text-align: right;\">\n",
       "      <th></th>\n",
       "      <th>id</th>\n",
       "      <th>date_account_created</th>\n",
       "      <th>timestamp_first_active</th>\n",
       "      <th>date_first_booking</th>\n",
       "      <th>gender</th>\n",
       "      <th>age</th>\n",
       "      <th>signup_method</th>\n",
       "      <th>signup_flow</th>\n",
       "      <th>language</th>\n",
       "      <th>affiliate_channel</th>\n",
       "      <th>affiliate_provider</th>\n",
       "      <th>first_affiliate_tracked</th>\n",
       "      <th>signup_app</th>\n",
       "      <th>first_device_type</th>\n",
       "      <th>first_browser</th>\n",
       "    </tr>\n",
       "  </thead>\n",
       "  <tbody>\n",
       "    <tr>\n",
       "      <th>0</th>\n",
       "      <td>gxn3p5htnn</td>\n",
       "      <td>2010-06-28 00:00:00</td>\n",
       "      <td>2009-03-19 04:32:55</td>\n",
       "      <td>NaN</td>\n",
       "      <td>-unknown-</td>\n",
       "      <td>49.307715</td>\n",
       "      <td>facebook</td>\n",
       "      <td>0</td>\n",
       "      <td>en</td>\n",
       "      <td>direct</td>\n",
       "      <td>direct</td>\n",
       "      <td>untracked</td>\n",
       "      <td>Web</td>\n",
       "      <td>Mac Desktop</td>\n",
       "      <td>Chrome</td>\n",
       "    </tr>\n",
       "    <tr>\n",
       "      <th>1</th>\n",
       "      <td>820tgsjxq7</td>\n",
       "      <td>2011-05-25 00:00:00</td>\n",
       "      <td>2009-05-23 17:48:09</td>\n",
       "      <td>NaN</td>\n",
       "      <td>MALE</td>\n",
       "      <td>38.000000</td>\n",
       "      <td>facebook</td>\n",
       "      <td>0</td>\n",
       "      <td>en</td>\n",
       "      <td>seo</td>\n",
       "      <td>google</td>\n",
       "      <td>untracked</td>\n",
       "      <td>Web</td>\n",
       "      <td>Mac Desktop</td>\n",
       "      <td>Chrome</td>\n",
       "    </tr>\n",
       "    <tr>\n",
       "      <th>2</th>\n",
       "      <td>4ft3gnwmtx</td>\n",
       "      <td>2010-09-28 00:00:00</td>\n",
       "      <td>2009-06-09 23:12:47</td>\n",
       "      <td>2010-08-02 00:00:00</td>\n",
       "      <td>FEMALE</td>\n",
       "      <td>56.000000</td>\n",
       "      <td>basic</td>\n",
       "      <td>3</td>\n",
       "      <td>en</td>\n",
       "      <td>direct</td>\n",
       "      <td>direct</td>\n",
       "      <td>untracked</td>\n",
       "      <td>Web</td>\n",
       "      <td>Windows Desktop</td>\n",
       "      <td>IE</td>\n",
       "    </tr>\n",
       "    <tr>\n",
       "      <th>3</th>\n",
       "      <td>bjjt8pjhuk</td>\n",
       "      <td>2011-12-05 00:00:00</td>\n",
       "      <td>2009-10-31 06:01:29</td>\n",
       "      <td>2012-09-08 00:00:00</td>\n",
       "      <td>FEMALE</td>\n",
       "      <td>42.000000</td>\n",
       "      <td>facebook</td>\n",
       "      <td>0</td>\n",
       "      <td>en</td>\n",
       "      <td>direct</td>\n",
       "      <td>direct</td>\n",
       "      <td>untracked</td>\n",
       "      <td>Web</td>\n",
       "      <td>Mac Desktop</td>\n",
       "      <td>Firefox</td>\n",
       "    </tr>\n",
       "    <tr>\n",
       "      <th>4</th>\n",
       "      <td>87mebub9p4</td>\n",
       "      <td>2010-09-14 00:00:00</td>\n",
       "      <td>2009-12-08 06:11:05</td>\n",
       "      <td>2010-02-18 00:00:00</td>\n",
       "      <td>-unknown-</td>\n",
       "      <td>41.000000</td>\n",
       "      <td>basic</td>\n",
       "      <td>0</td>\n",
       "      <td>en</td>\n",
       "      <td>direct</td>\n",
       "      <td>direct</td>\n",
       "      <td>untracked</td>\n",
       "      <td>Web</td>\n",
       "      <td>Mac Desktop</td>\n",
       "      <td>Chrome</td>\n",
       "    </tr>\n",
       "    <tr>\n",
       "      <th>5</th>\n",
       "      <td>osr2jwljor</td>\n",
       "      <td>2010-01-01 00:00:00</td>\n",
       "      <td>2010-01-01 21:56:19</td>\n",
       "      <td>2010-01-02 00:00:00</td>\n",
       "      <td>-unknown-</td>\n",
       "      <td>49.307715</td>\n",
       "      <td>basic</td>\n",
       "      <td>0</td>\n",
       "      <td>en</td>\n",
       "      <td>other</td>\n",
       "      <td>other</td>\n",
       "      <td>omg</td>\n",
       "      <td>Web</td>\n",
       "      <td>Mac Desktop</td>\n",
       "      <td>Chrome</td>\n",
       "    </tr>\n",
       "    <tr>\n",
       "      <th>6</th>\n",
       "      <td>lsw9q7uk0j</td>\n",
       "      <td>2010-01-02 00:00:00</td>\n",
       "      <td>2010-01-02 01:25:58</td>\n",
       "      <td>2010-01-05 00:00:00</td>\n",
       "      <td>FEMALE</td>\n",
       "      <td>46.000000</td>\n",
       "      <td>basic</td>\n",
       "      <td>0</td>\n",
       "      <td>en</td>\n",
       "      <td>other</td>\n",
       "      <td>craigslist</td>\n",
       "      <td>untracked</td>\n",
       "      <td>Web</td>\n",
       "      <td>Mac Desktop</td>\n",
       "      <td>Safari</td>\n",
       "    </tr>\n",
       "    <tr>\n",
       "      <th>7</th>\n",
       "      <td>0d01nltbrs</td>\n",
       "      <td>2010-01-03 00:00:00</td>\n",
       "      <td>2010-01-03 19:19:05</td>\n",
       "      <td>2010-01-13 00:00:00</td>\n",
       "      <td>FEMALE</td>\n",
       "      <td>47.000000</td>\n",
       "      <td>basic</td>\n",
       "      <td>0</td>\n",
       "      <td>en</td>\n",
       "      <td>direct</td>\n",
       "      <td>direct</td>\n",
       "      <td>omg</td>\n",
       "      <td>Web</td>\n",
       "      <td>Mac Desktop</td>\n",
       "      <td>Safari</td>\n",
       "    </tr>\n",
       "    <tr>\n",
       "      <th>8</th>\n",
       "      <td>a1vcnhxeij</td>\n",
       "      <td>2010-01-04 00:00:00</td>\n",
       "      <td>2010-01-04 00:42:11</td>\n",
       "      <td>2010-07-29 00:00:00</td>\n",
       "      <td>FEMALE</td>\n",
       "      <td>50.000000</td>\n",
       "      <td>basic</td>\n",
       "      <td>0</td>\n",
       "      <td>en</td>\n",
       "      <td>other</td>\n",
       "      <td>craigslist</td>\n",
       "      <td>untracked</td>\n",
       "      <td>Web</td>\n",
       "      <td>Mac Desktop</td>\n",
       "      <td>Safari</td>\n",
       "    </tr>\n",
       "    <tr>\n",
       "      <th>9</th>\n",
       "      <td>6uh8zyj2gn</td>\n",
       "      <td>2010-01-04 00:00:00</td>\n",
       "      <td>2010-01-04 02:37:58</td>\n",
       "      <td>2010-01-04 00:00:00</td>\n",
       "      <td>-unknown-</td>\n",
       "      <td>46.000000</td>\n",
       "      <td>basic</td>\n",
       "      <td>0</td>\n",
       "      <td>en</td>\n",
       "      <td>other</td>\n",
       "      <td>craigslist</td>\n",
       "      <td>omg</td>\n",
       "      <td>Web</td>\n",
       "      <td>Mac Desktop</td>\n",
       "      <td>Firefox</td>\n",
       "    </tr>\n",
       "  </tbody>\n",
       "</table>\n",
       "</div>"
      ],
      "text/plain": [
       "           id date_account_created timestamp_first_active  \\\n",
       "0  gxn3p5htnn  2010-06-28 00:00:00    2009-03-19 04:32:55   \n",
       "1  820tgsjxq7  2011-05-25 00:00:00    2009-05-23 17:48:09   \n",
       "2  4ft3gnwmtx  2010-09-28 00:00:00    2009-06-09 23:12:47   \n",
       "3  bjjt8pjhuk  2011-12-05 00:00:00    2009-10-31 06:01:29   \n",
       "4  87mebub9p4  2010-09-14 00:00:00    2009-12-08 06:11:05   \n",
       "5  osr2jwljor  2010-01-01 00:00:00    2010-01-01 21:56:19   \n",
       "6  lsw9q7uk0j  2010-01-02 00:00:00    2010-01-02 01:25:58   \n",
       "7  0d01nltbrs  2010-01-03 00:00:00    2010-01-03 19:19:05   \n",
       "8  a1vcnhxeij  2010-01-04 00:00:00    2010-01-04 00:42:11   \n",
       "9  6uh8zyj2gn  2010-01-04 00:00:00    2010-01-04 02:37:58   \n",
       "\n",
       "    date_first_booking     gender        age signup_method  signup_flow  \\\n",
       "0                  NaN  -unknown-  49.307715      facebook            0   \n",
       "1                  NaN       MALE  38.000000      facebook            0   \n",
       "2  2010-08-02 00:00:00     FEMALE  56.000000         basic            3   \n",
       "3  2012-09-08 00:00:00     FEMALE  42.000000      facebook            0   \n",
       "4  2010-02-18 00:00:00  -unknown-  41.000000         basic            0   \n",
       "5  2010-01-02 00:00:00  -unknown-  49.307715         basic            0   \n",
       "6  2010-01-05 00:00:00     FEMALE  46.000000         basic            0   \n",
       "7  2010-01-13 00:00:00     FEMALE  47.000000         basic            0   \n",
       "8  2010-07-29 00:00:00     FEMALE  50.000000         basic            0   \n",
       "9  2010-01-04 00:00:00  -unknown-  46.000000         basic            0   \n",
       "\n",
       "  language affiliate_channel affiliate_provider first_affiliate_tracked  \\\n",
       "0       en            direct             direct               untracked   \n",
       "1       en               seo             google               untracked   \n",
       "2       en            direct             direct               untracked   \n",
       "3       en            direct             direct               untracked   \n",
       "4       en            direct             direct               untracked   \n",
       "5       en             other              other                     omg   \n",
       "6       en             other         craigslist               untracked   \n",
       "7       en            direct             direct                     omg   \n",
       "8       en             other         craigslist               untracked   \n",
       "9       en             other         craigslist                     omg   \n",
       "\n",
       "  signup_app first_device_type first_browser  \n",
       "0        Web       Mac Desktop        Chrome  \n",
       "1        Web       Mac Desktop        Chrome  \n",
       "2        Web   Windows Desktop            IE  \n",
       "3        Web       Mac Desktop       Firefox  \n",
       "4        Web       Mac Desktop        Chrome  \n",
       "5        Web       Mac Desktop        Chrome  \n",
       "6        Web       Mac Desktop        Safari  \n",
       "7        Web       Mac Desktop        Safari  \n",
       "8        Web       Mac Desktop        Safari  \n",
       "9        Web       Mac Desktop       Firefox  "
      ]
     },
     "metadata": {},
     "output_type": "display_data"
    },
    {
     "name": "stdout",
     "output_type": "stream",
     "text": [
      " \n",
      "Target:\n"
     ]
    },
    {
     "data": {
      "text/plain": [
       "0      NDF\n",
       "1      NDF\n",
       "2       US\n",
       "3    other\n",
       "4       US\n",
       "5       US\n",
       "6       US\n",
       "7       US\n",
       "8       US\n",
       "9       US\n",
       "Name: country_destination, dtype: object"
      ]
     },
     "metadata": {},
     "output_type": "display_data"
    },
    {
     "name": "stdout",
     "output_type": "stream",
     "text": [
      "----------------------------------------\n",
      "Frecuencias del Target\n"
     ]
    },
    {
     "data": {
      "text/plain": [
       "NDF      120216\n",
       "US        61067\n",
       "other      9981\n",
       "FR         4899\n",
       "IT         2791\n",
       "GB         2295\n",
       "ES         2213\n",
       "CA         1391\n",
       "DE         1041\n",
       "NL          751\n",
       "AU          527\n",
       "PT          214\n",
       "Name: country_destination, dtype: int64"
      ]
     },
     "metadata": {},
     "output_type": "display_data"
    }
   ],
   "source": [
    "dataset = pd.read_csv(\"../Datos/data_cleaned.csv\", comment=\"#\")\n",
    "print('\\nLongitud del dataset: '+str(len(dataset))+'\\n')\n",
    "\n",
    "#División entre instancias y etiquetas\n",
    "X, y = dataset.drop(columns=['country_destination']), dataset.country_destination\n",
    "\n",
    "print('Dataset:')\n",
    "display(X.head(10))\n",
    "print(\" \")\n",
    "print('Target:')\n",
    "display(y.head(10))\n",
    "print(\"----------------------------------------\")\n",
    "print('Frecuencias del Target')\n",
    "display(dataset.country_destination.value_counts())"
   ]
  },
  {
   "cell_type": "markdown",
   "metadata": {},
   "source": [
    "Como podemos observar el problema de aprendizaje autómatico del corriente laboratorio, entra dentro del problema de `clasificación multiclase`."
   ]
  },
  {
   "cell_type": "markdown",
   "metadata": {},
   "source": [
    "__TODO__: Curar los datos."
   ]
  },
  {
   "cell_type": "code",
   "execution_count": 59,
   "metadata": {
    "scrolled": true
   },
   "outputs": [
    {
     "data": {
      "text/html": [
       "<div>\n",
       "<style scoped>\n",
       "    .dataframe tbody tr th:only-of-type {\n",
       "        vertical-align: middle;\n",
       "    }\n",
       "\n",
       "    .dataframe tbody tr th {\n",
       "        vertical-align: top;\n",
       "    }\n",
       "\n",
       "    .dataframe thead th {\n",
       "        text-align: right;\n",
       "    }\n",
       "</style>\n",
       "<table border=\"1\" class=\"dataframe\">\n",
       "  <thead>\n",
       "    <tr style=\"text-align: right;\">\n",
       "      <th></th>\n",
       "      <th>id</th>\n",
       "      <th>date_account_created</th>\n",
       "      <th>timestamp_first_active</th>\n",
       "      <th>date_first_booking</th>\n",
       "      <th>gender</th>\n",
       "      <th>age</th>\n",
       "      <th>signup_method</th>\n",
       "      <th>signup_flow</th>\n",
       "      <th>language</th>\n",
       "      <th>affiliate_channel</th>\n",
       "      <th>affiliate_provider</th>\n",
       "      <th>first_affiliate_tracked</th>\n",
       "      <th>signup_app</th>\n",
       "      <th>first_device_type</th>\n",
       "      <th>first_browser</th>\n",
       "      <th>country_destination</th>\n",
       "    </tr>\n",
       "  </thead>\n",
       "  <tbody>\n",
       "    <tr>\n",
       "      <th>0</th>\n",
       "      <td>gxn3p5htnn</td>\n",
       "      <td>2010-06-28 00:00:00</td>\n",
       "      <td>2009-03-19 04:32:55</td>\n",
       "      <td>NaN</td>\n",
       "      <td>-unknown-</td>\n",
       "      <td>49.307715</td>\n",
       "      <td>facebook</td>\n",
       "      <td>0</td>\n",
       "      <td>en</td>\n",
       "      <td>direct</td>\n",
       "      <td>direct</td>\n",
       "      <td>untracked</td>\n",
       "      <td>Web</td>\n",
       "      <td>Mac Desktop</td>\n",
       "      <td>Chrome</td>\n",
       "      <td>NDF</td>\n",
       "    </tr>\n",
       "    <tr>\n",
       "      <th>1</th>\n",
       "      <td>820tgsjxq7</td>\n",
       "      <td>2011-05-25 00:00:00</td>\n",
       "      <td>2009-05-23 17:48:09</td>\n",
       "      <td>NaN</td>\n",
       "      <td>MALE</td>\n",
       "      <td>38.000000</td>\n",
       "      <td>facebook</td>\n",
       "      <td>0</td>\n",
       "      <td>en</td>\n",
       "      <td>seo</td>\n",
       "      <td>google</td>\n",
       "      <td>untracked</td>\n",
       "      <td>Web</td>\n",
       "      <td>Mac Desktop</td>\n",
       "      <td>Chrome</td>\n",
       "      <td>NDF</td>\n",
       "    </tr>\n",
       "    <tr>\n",
       "      <th>2</th>\n",
       "      <td>4ft3gnwmtx</td>\n",
       "      <td>2010-09-28 00:00:00</td>\n",
       "      <td>2009-06-09 23:12:47</td>\n",
       "      <td>2010-08-02 00:00:00</td>\n",
       "      <td>FEMALE</td>\n",
       "      <td>56.000000</td>\n",
       "      <td>basic</td>\n",
       "      <td>3</td>\n",
       "      <td>en</td>\n",
       "      <td>direct</td>\n",
       "      <td>direct</td>\n",
       "      <td>untracked</td>\n",
       "      <td>Web</td>\n",
       "      <td>Windows Desktop</td>\n",
       "      <td>IE</td>\n",
       "      <td>US</td>\n",
       "    </tr>\n",
       "    <tr>\n",
       "      <th>3</th>\n",
       "      <td>bjjt8pjhuk</td>\n",
       "      <td>2011-12-05 00:00:00</td>\n",
       "      <td>2009-10-31 06:01:29</td>\n",
       "      <td>2012-09-08 00:00:00</td>\n",
       "      <td>FEMALE</td>\n",
       "      <td>42.000000</td>\n",
       "      <td>facebook</td>\n",
       "      <td>0</td>\n",
       "      <td>en</td>\n",
       "      <td>direct</td>\n",
       "      <td>direct</td>\n",
       "      <td>untracked</td>\n",
       "      <td>Web</td>\n",
       "      <td>Mac Desktop</td>\n",
       "      <td>Firefox</td>\n",
       "      <td>other</td>\n",
       "    </tr>\n",
       "    <tr>\n",
       "      <th>4</th>\n",
       "      <td>87mebub9p4</td>\n",
       "      <td>2010-09-14 00:00:00</td>\n",
       "      <td>2009-12-08 06:11:05</td>\n",
       "      <td>2010-02-18 00:00:00</td>\n",
       "      <td>-unknown-</td>\n",
       "      <td>41.000000</td>\n",
       "      <td>basic</td>\n",
       "      <td>0</td>\n",
       "      <td>en</td>\n",
       "      <td>direct</td>\n",
       "      <td>direct</td>\n",
       "      <td>untracked</td>\n",
       "      <td>Web</td>\n",
       "      <td>Mac Desktop</td>\n",
       "      <td>Chrome</td>\n",
       "      <td>US</td>\n",
       "    </tr>\n",
       "  </tbody>\n",
       "</table>\n",
       "</div>"
      ],
      "text/plain": [
       "           id date_account_created timestamp_first_active  \\\n",
       "0  gxn3p5htnn  2010-06-28 00:00:00    2009-03-19 04:32:55   \n",
       "1  820tgsjxq7  2011-05-25 00:00:00    2009-05-23 17:48:09   \n",
       "2  4ft3gnwmtx  2010-09-28 00:00:00    2009-06-09 23:12:47   \n",
       "3  bjjt8pjhuk  2011-12-05 00:00:00    2009-10-31 06:01:29   \n",
       "4  87mebub9p4  2010-09-14 00:00:00    2009-12-08 06:11:05   \n",
       "\n",
       "    date_first_booking     gender        age signup_method  signup_flow  \\\n",
       "0                  NaN  -unknown-  49.307715      facebook            0   \n",
       "1                  NaN       MALE  38.000000      facebook            0   \n",
       "2  2010-08-02 00:00:00     FEMALE  56.000000         basic            3   \n",
       "3  2012-09-08 00:00:00     FEMALE  42.000000      facebook            0   \n",
       "4  2010-02-18 00:00:00  -unknown-  41.000000         basic            0   \n",
       "\n",
       "  language affiliate_channel affiliate_provider first_affiliate_tracked  \\\n",
       "0       en            direct             direct               untracked   \n",
       "1       en               seo             google               untracked   \n",
       "2       en            direct             direct               untracked   \n",
       "3       en            direct             direct               untracked   \n",
       "4       en            direct             direct               untracked   \n",
       "\n",
       "  signup_app first_device_type first_browser country_destination  \n",
       "0        Web       Mac Desktop        Chrome                 NDF  \n",
       "1        Web       Mac Desktop        Chrome                 NDF  \n",
       "2        Web   Windows Desktop            IE                  US  \n",
       "3        Web       Mac Desktop       Firefox               other  \n",
       "4        Web       Mac Desktop        Chrome                  US  "
      ]
     },
     "execution_count": 59,
     "metadata": {},
     "output_type": "execute_result"
    }
   ],
   "source": [
    "dataset.head()"
   ]
  },
  {
   "cell_type": "code",
   "execution_count": 60,
   "metadata": {},
   "outputs": [
    {
     "data": {
      "text/plain": [
       "-unknown-    91783\n",
       "FEMALE       61978\n",
       "MALE         53347\n",
       "OTHER          278\n",
       "Name: gender, dtype: int64"
      ]
     },
     "execution_count": 60,
     "metadata": {},
     "output_type": "execute_result"
    }
   ],
   "source": [
    "#GENDER\n",
    "#dataset['gender'].unique()\n",
    "#dataset['gender'] = dataset['gender'].replace('-unknown-', np.nan)\n",
    "dataset['gender'].value_counts()\n",
    "#len(dataset[dataset['gender'].isnull()]) #91783 null"
   ]
  },
  {
   "cell_type": "code",
   "execution_count": 61,
   "metadata": {},
   "outputs": [
    {
     "data": {
      "text/plain": [
       "count    207386.000000\n",
       "mean         41.774535\n",
       "std          10.880173\n",
       "min          18.000000\n",
       "25%          32.000000\n",
       "50%          48.000000\n",
       "75%          49.307715\n",
       "max         100.000000\n",
       "Name: age, dtype: float64"
      ]
     },
     "execution_count": 61,
     "metadata": {},
     "output_type": "execute_result"
    }
   ],
   "source": [
    "#AGE\n",
    "#dataset[dataset['age']>100] # 0\n",
    "#dataset[dataset['age']<18] # 0\n",
    "dataset['age'].describe()"
   ]
  },
  {
   "cell_type": "code",
   "execution_count": 62,
   "metadata": {},
   "outputs": [
    {
     "data": {
      "text/plain": [
       "Chrome                  63845\n",
       "Safari                  45169\n",
       "Firefox                 33655\n",
       "-unknown-               21201\n",
       "IE                      21068\n",
       "Mobile Safari           19274\n",
       "Chrome Mobile            1270\n",
       "Android Browser           851\n",
       "AOL Explorer              245\n",
       "Opera                     188\n",
       "Silk                      124\n",
       "Chromium                   73\n",
       "BlackBerry Browser         53\n",
       "Maxthon                    46\n",
       "Apple Mail                 36\n",
       "IE Mobile                  36\n",
       "Sogou Explorer             33\n",
       "Mobile Firefox             30\n",
       "RockMelt                   24\n",
       "SiteKiosk                  24\n",
       "Iron                       17\n",
       "IceWeasel                  13\n",
       "Pale Moon                  12\n",
       "SeaMonkey                  11\n",
       "CometBird                  11\n",
       "Yandex.Browser             11\n",
       "Camino                      9\n",
       "TenFourFox                  8\n",
       "wOSBrowser                  6\n",
       "CoolNovo                    6\n",
       "Avant Browser               4\n",
       "Opera Mini                  4\n",
       "Mozilla                     3\n",
       "SlimBrowser                 2\n",
       "TheWorld Browser            2\n",
       "Flock                       2\n",
       "OmniWeb                     2\n",
       "Opera Mobile                2\n",
       "Crazy Browser               2\n",
       "Comodo Dragon               2\n",
       "Arora                       1\n",
       "NetNewsWire                 1\n",
       "Googlebot                   1\n",
       "IceDragon                   1\n",
       "Palm Pre web browser        1\n",
       "Epic                        1\n",
       "Google Earth                1\n",
       "Stainless                   1\n",
       "PS Vita browser             1\n",
       "Conkeror                    1\n",
       "Outlook 2007                1\n",
       "Kindle Browser              1\n",
       "Name: first_browser, dtype: int64"
      ]
     },
     "execution_count": 62,
     "metadata": {},
     "output_type": "execute_result"
    }
   ],
   "source": [
    "#first_browser\n",
    "dataset.first_browser.unique()\n",
    "#dataset[dataset['first_browser'].isnull()] # 0 nan\n",
    "#dataset['first_browser'] = dataset['first_browser'].replace('-unknown-', np.nan)\n",
    "dataset['first_browser'].value_counts()"
   ]
  },
  {
   "cell_type": "code",
   "execution_count": 63,
   "metadata": {},
   "outputs": [
    {
     "data": {
      "text/plain": [
       "Mac Desktop           89600\n",
       "Windows Desktop       72716\n",
       "iPhone                20759\n",
       "iPad                  14339\n",
       "Other/Unknown          4602\n",
       "Android Phone          2803\n",
       "Android Tablet         1292\n",
       "Desktop (Other)        1199\n",
       "SmartPhone (Other)       76\n",
       "Name: first_device_type, dtype: int64"
      ]
     },
     "execution_count": 63,
     "metadata": {},
     "output_type": "execute_result"
    }
   ],
   "source": [
    "#dataset.signup_method.unique()\n",
    "#dataset.first_device_type.unique()\n",
    "#dataset[dataset['first_device_type'].isnull()] # 0 nan\n",
    "\n",
    "dataset['first_device_type'].value_counts()"
   ]
  },
  {
   "cell_type": "markdown",
   "metadata": {},
   "source": [
    "__TODO__: Determinar el set de features que vas a usar.\n",
    "### Features\n",
    "1-age : Rango de edades \\\n",
    "2-gender : MALE/FEMALE/OTHER/UNKNOWN \\\n",
    "3-signup_method : 'facebook'|'basic'|'google' \\ \n",
    "4-first_device_type : Mac Desktop|Windows Desktop|iPhone|iPad|Other/Unknown|Android Phone|Android Tablet|Desktop (Other)|SmartPhone (Other) \\\n",
    "5-first_browser(?: (first 7) Chrome | Safari | Firefox | IE | Mobile Safari | Chrome Mobile | Android Browser \\"
   ]
  },
  {
   "cell_type": "code",
   "execution_count": 64,
   "metadata": {},
   "outputs": [
    {
     "data": {
      "text/html": [
       "<div>\n",
       "<style scoped>\n",
       "    .dataframe tbody tr th:only-of-type {\n",
       "        vertical-align: middle;\n",
       "    }\n",
       "\n",
       "    .dataframe tbody tr th {\n",
       "        vertical-align: top;\n",
       "    }\n",
       "\n",
       "    .dataframe thead th {\n",
       "        text-align: right;\n",
       "    }\n",
       "</style>\n",
       "<table border=\"1\" class=\"dataframe\">\n",
       "  <thead>\n",
       "    <tr style=\"text-align: right;\">\n",
       "      <th></th>\n",
       "      <th>id</th>\n",
       "      <th>date_account_created</th>\n",
       "      <th>timestamp_first_active</th>\n",
       "      <th>date_first_booking</th>\n",
       "      <th>gender</th>\n",
       "      <th>age</th>\n",
       "      <th>signup_method</th>\n",
       "      <th>signup_flow</th>\n",
       "      <th>language</th>\n",
       "      <th>affiliate_channel</th>\n",
       "      <th>affiliate_provider</th>\n",
       "      <th>first_affiliate_tracked</th>\n",
       "      <th>signup_app</th>\n",
       "      <th>first_device_type</th>\n",
       "      <th>first_browser</th>\n",
       "      <th>country_destination</th>\n",
       "    </tr>\n",
       "  </thead>\n",
       "  <tbody>\n",
       "    <tr>\n",
       "      <th>0</th>\n",
       "      <td>gxn3p5htnn</td>\n",
       "      <td>2010-06-28 00:00:00</td>\n",
       "      <td>2009-03-19 04:32:55</td>\n",
       "      <td>NaN</td>\n",
       "      <td>-unknown-</td>\n",
       "      <td>49.307715</td>\n",
       "      <td>facebook</td>\n",
       "      <td>0</td>\n",
       "      <td>en</td>\n",
       "      <td>direct</td>\n",
       "      <td>direct</td>\n",
       "      <td>untracked</td>\n",
       "      <td>Web</td>\n",
       "      <td>Mac Desktop</td>\n",
       "      <td>Chrome</td>\n",
       "      <td>NDF</td>\n",
       "    </tr>\n",
       "    <tr>\n",
       "      <th>1</th>\n",
       "      <td>820tgsjxq7</td>\n",
       "      <td>2011-05-25 00:00:00</td>\n",
       "      <td>2009-05-23 17:48:09</td>\n",
       "      <td>NaN</td>\n",
       "      <td>MALE</td>\n",
       "      <td>38.000000</td>\n",
       "      <td>facebook</td>\n",
       "      <td>0</td>\n",
       "      <td>en</td>\n",
       "      <td>seo</td>\n",
       "      <td>google</td>\n",
       "      <td>untracked</td>\n",
       "      <td>Web</td>\n",
       "      <td>Mac Desktop</td>\n",
       "      <td>Chrome</td>\n",
       "      <td>NDF</td>\n",
       "    </tr>\n",
       "    <tr>\n",
       "      <th>2</th>\n",
       "      <td>4ft3gnwmtx</td>\n",
       "      <td>2010-09-28 00:00:00</td>\n",
       "      <td>2009-06-09 23:12:47</td>\n",
       "      <td>2010-08-02 00:00:00</td>\n",
       "      <td>FEMALE</td>\n",
       "      <td>56.000000</td>\n",
       "      <td>basic</td>\n",
       "      <td>3</td>\n",
       "      <td>en</td>\n",
       "      <td>direct</td>\n",
       "      <td>direct</td>\n",
       "      <td>untracked</td>\n",
       "      <td>Web</td>\n",
       "      <td>Windows Desktop</td>\n",
       "      <td>IE</td>\n",
       "      <td>US</td>\n",
       "    </tr>\n",
       "    <tr>\n",
       "      <th>3</th>\n",
       "      <td>bjjt8pjhuk</td>\n",
       "      <td>2011-12-05 00:00:00</td>\n",
       "      <td>2009-10-31 06:01:29</td>\n",
       "      <td>2012-09-08 00:00:00</td>\n",
       "      <td>FEMALE</td>\n",
       "      <td>42.000000</td>\n",
       "      <td>facebook</td>\n",
       "      <td>0</td>\n",
       "      <td>en</td>\n",
       "      <td>direct</td>\n",
       "      <td>direct</td>\n",
       "      <td>untracked</td>\n",
       "      <td>Web</td>\n",
       "      <td>Mac Desktop</td>\n",
       "      <td>Firefox</td>\n",
       "      <td>other</td>\n",
       "    </tr>\n",
       "    <tr>\n",
       "      <th>4</th>\n",
       "      <td>87mebub9p4</td>\n",
       "      <td>2010-09-14 00:00:00</td>\n",
       "      <td>2009-12-08 06:11:05</td>\n",
       "      <td>2010-02-18 00:00:00</td>\n",
       "      <td>-unknown-</td>\n",
       "      <td>41.000000</td>\n",
       "      <td>basic</td>\n",
       "      <td>0</td>\n",
       "      <td>en</td>\n",
       "      <td>direct</td>\n",
       "      <td>direct</td>\n",
       "      <td>untracked</td>\n",
       "      <td>Web</td>\n",
       "      <td>Mac Desktop</td>\n",
       "      <td>Chrome</td>\n",
       "      <td>US</td>\n",
       "    </tr>\n",
       "    <tr>\n",
       "      <th>5</th>\n",
       "      <td>osr2jwljor</td>\n",
       "      <td>2010-01-01 00:00:00</td>\n",
       "      <td>2010-01-01 21:56:19</td>\n",
       "      <td>2010-01-02 00:00:00</td>\n",
       "      <td>-unknown-</td>\n",
       "      <td>49.307715</td>\n",
       "      <td>basic</td>\n",
       "      <td>0</td>\n",
       "      <td>en</td>\n",
       "      <td>other</td>\n",
       "      <td>other</td>\n",
       "      <td>omg</td>\n",
       "      <td>Web</td>\n",
       "      <td>Mac Desktop</td>\n",
       "      <td>Chrome</td>\n",
       "      <td>US</td>\n",
       "    </tr>\n",
       "    <tr>\n",
       "      <th>6</th>\n",
       "      <td>lsw9q7uk0j</td>\n",
       "      <td>2010-01-02 00:00:00</td>\n",
       "      <td>2010-01-02 01:25:58</td>\n",
       "      <td>2010-01-05 00:00:00</td>\n",
       "      <td>FEMALE</td>\n",
       "      <td>46.000000</td>\n",
       "      <td>basic</td>\n",
       "      <td>0</td>\n",
       "      <td>en</td>\n",
       "      <td>other</td>\n",
       "      <td>craigslist</td>\n",
       "      <td>untracked</td>\n",
       "      <td>Web</td>\n",
       "      <td>Mac Desktop</td>\n",
       "      <td>Safari</td>\n",
       "      <td>US</td>\n",
       "    </tr>\n",
       "    <tr>\n",
       "      <th>7</th>\n",
       "      <td>0d01nltbrs</td>\n",
       "      <td>2010-01-03 00:00:00</td>\n",
       "      <td>2010-01-03 19:19:05</td>\n",
       "      <td>2010-01-13 00:00:00</td>\n",
       "      <td>FEMALE</td>\n",
       "      <td>47.000000</td>\n",
       "      <td>basic</td>\n",
       "      <td>0</td>\n",
       "      <td>en</td>\n",
       "      <td>direct</td>\n",
       "      <td>direct</td>\n",
       "      <td>omg</td>\n",
       "      <td>Web</td>\n",
       "      <td>Mac Desktop</td>\n",
       "      <td>Safari</td>\n",
       "      <td>US</td>\n",
       "    </tr>\n",
       "    <tr>\n",
       "      <th>8</th>\n",
       "      <td>a1vcnhxeij</td>\n",
       "      <td>2010-01-04 00:00:00</td>\n",
       "      <td>2010-01-04 00:42:11</td>\n",
       "      <td>2010-07-29 00:00:00</td>\n",
       "      <td>FEMALE</td>\n",
       "      <td>50.000000</td>\n",
       "      <td>basic</td>\n",
       "      <td>0</td>\n",
       "      <td>en</td>\n",
       "      <td>other</td>\n",
       "      <td>craigslist</td>\n",
       "      <td>untracked</td>\n",
       "      <td>Web</td>\n",
       "      <td>Mac Desktop</td>\n",
       "      <td>Safari</td>\n",
       "      <td>US</td>\n",
       "    </tr>\n",
       "    <tr>\n",
       "      <th>9</th>\n",
       "      <td>6uh8zyj2gn</td>\n",
       "      <td>2010-01-04 00:00:00</td>\n",
       "      <td>2010-01-04 02:37:58</td>\n",
       "      <td>2010-01-04 00:00:00</td>\n",
       "      <td>-unknown-</td>\n",
       "      <td>46.000000</td>\n",
       "      <td>basic</td>\n",
       "      <td>0</td>\n",
       "      <td>en</td>\n",
       "      <td>other</td>\n",
       "      <td>craigslist</td>\n",
       "      <td>omg</td>\n",
       "      <td>Web</td>\n",
       "      <td>Mac Desktop</td>\n",
       "      <td>Firefox</td>\n",
       "      <td>US</td>\n",
       "    </tr>\n",
       "  </tbody>\n",
       "</table>\n",
       "</div>"
      ],
      "text/plain": [
       "           id date_account_created timestamp_first_active  \\\n",
       "0  gxn3p5htnn  2010-06-28 00:00:00    2009-03-19 04:32:55   \n",
       "1  820tgsjxq7  2011-05-25 00:00:00    2009-05-23 17:48:09   \n",
       "2  4ft3gnwmtx  2010-09-28 00:00:00    2009-06-09 23:12:47   \n",
       "3  bjjt8pjhuk  2011-12-05 00:00:00    2009-10-31 06:01:29   \n",
       "4  87mebub9p4  2010-09-14 00:00:00    2009-12-08 06:11:05   \n",
       "5  osr2jwljor  2010-01-01 00:00:00    2010-01-01 21:56:19   \n",
       "6  lsw9q7uk0j  2010-01-02 00:00:00    2010-01-02 01:25:58   \n",
       "7  0d01nltbrs  2010-01-03 00:00:00    2010-01-03 19:19:05   \n",
       "8  a1vcnhxeij  2010-01-04 00:00:00    2010-01-04 00:42:11   \n",
       "9  6uh8zyj2gn  2010-01-04 00:00:00    2010-01-04 02:37:58   \n",
       "\n",
       "    date_first_booking     gender        age signup_method  signup_flow  \\\n",
       "0                  NaN  -unknown-  49.307715      facebook            0   \n",
       "1                  NaN       MALE  38.000000      facebook            0   \n",
       "2  2010-08-02 00:00:00     FEMALE  56.000000         basic            3   \n",
       "3  2012-09-08 00:00:00     FEMALE  42.000000      facebook            0   \n",
       "4  2010-02-18 00:00:00  -unknown-  41.000000         basic            0   \n",
       "5  2010-01-02 00:00:00  -unknown-  49.307715         basic            0   \n",
       "6  2010-01-05 00:00:00     FEMALE  46.000000         basic            0   \n",
       "7  2010-01-13 00:00:00     FEMALE  47.000000         basic            0   \n",
       "8  2010-07-29 00:00:00     FEMALE  50.000000         basic            0   \n",
       "9  2010-01-04 00:00:00  -unknown-  46.000000         basic            0   \n",
       "\n",
       "  language affiliate_channel affiliate_provider first_affiliate_tracked  \\\n",
       "0       en            direct             direct               untracked   \n",
       "1       en               seo             google               untracked   \n",
       "2       en            direct             direct               untracked   \n",
       "3       en            direct             direct               untracked   \n",
       "4       en            direct             direct               untracked   \n",
       "5       en             other              other                     omg   \n",
       "6       en             other         craigslist               untracked   \n",
       "7       en            direct             direct                     omg   \n",
       "8       en             other         craigslist               untracked   \n",
       "9       en             other         craigslist                     omg   \n",
       "\n",
       "  signup_app first_device_type first_browser country_destination  \n",
       "0        Web       Mac Desktop        Chrome                 NDF  \n",
       "1        Web       Mac Desktop        Chrome                 NDF  \n",
       "2        Web   Windows Desktop            IE                  US  \n",
       "3        Web       Mac Desktop       Firefox               other  \n",
       "4        Web       Mac Desktop        Chrome                  US  \n",
       "5        Web       Mac Desktop        Chrome                  US  \n",
       "6        Web       Mac Desktop        Safari                  US  \n",
       "7        Web       Mac Desktop        Safari                  US  \n",
       "8        Web       Mac Desktop        Safari                  US  \n",
       "9        Web       Mac Desktop       Firefox                  US  "
      ]
     },
     "execution_count": 64,
     "metadata": {},
     "output_type": "execute_result"
    }
   ],
   "source": [
    "dataset.head(10)"
   ]
  },
  {
   "cell_type": "markdown",
   "metadata": {},
   "source": [
    "__TODO__: ¿Es una dataset balanceado? ¿Cuál es su implicancia y que podemos hacer con ello?"
   ]
  },
  {
   "cell_type": "code",
   "execution_count": 65,
   "metadata": {},
   "outputs": [
    {
     "data": {
      "text/html": [
       "<div>\n",
       "<style scoped>\n",
       "    .dataframe tbody tr th:only-of-type {\n",
       "        vertical-align: middle;\n",
       "    }\n",
       "\n",
       "    .dataframe tbody tr th {\n",
       "        vertical-align: top;\n",
       "    }\n",
       "\n",
       "    .dataframe thead th {\n",
       "        text-align: right;\n",
       "    }\n",
       "</style>\n",
       "<table border=\"1\" class=\"dataframe\">\n",
       "  <thead>\n",
       "    <tr style=\"text-align: right;\">\n",
       "      <th></th>\n",
       "      <th>id</th>\n",
       "      <th>date_account_created</th>\n",
       "      <th>timestamp_first_active</th>\n",
       "      <th>date_first_booking</th>\n",
       "      <th>gender</th>\n",
       "      <th>age</th>\n",
       "      <th>signup_method</th>\n",
       "      <th>signup_flow</th>\n",
       "      <th>language</th>\n",
       "      <th>affiliate_channel</th>\n",
       "      <th>affiliate_provider</th>\n",
       "      <th>first_affiliate_tracked</th>\n",
       "      <th>signup_app</th>\n",
       "      <th>first_device_type</th>\n",
       "      <th>first_browser</th>\n",
       "      <th>country_destination</th>\n",
       "    </tr>\n",
       "  </thead>\n",
       "  <tbody>\n",
       "  </tbody>\n",
       "</table>\n",
       "</div>"
      ],
      "text/plain": [
       "Empty DataFrame\n",
       "Columns: [id, date_account_created, timestamp_first_active, date_first_booking, gender, age, signup_method, signup_flow, language, affiliate_channel, affiliate_provider, first_affiliate_tracked, signup_app, first_device_type, first_browser, country_destination]\n",
       "Index: []"
      ]
     },
     "execution_count": 65,
     "metadata": {},
     "output_type": "execute_result"
    }
   ],
   "source": [
    "dataset[dataset['country_destination'].isnull()]"
   ]
  },
  {
   "cell_type": "code",
   "execution_count": 66,
   "metadata": {},
   "outputs": [
    {
     "data": {
      "text/plain": [
       "NDF      120216\n",
       "US        61067\n",
       "other      9981\n",
       "FR         4899\n",
       "IT         2791\n",
       "GB         2295\n",
       "ES         2213\n",
       "CA         1391\n",
       "DE         1041\n",
       "NL          751\n",
       "AU          527\n",
       "PT          214\n",
       "Name: country_destination, dtype: int64"
      ]
     },
     "execution_count": 66,
     "metadata": {},
     "output_type": "execute_result"
    }
   ],
   "source": [
    "dataset['country_destination'].value_counts()"
   ]
  },
  {
   "cell_type": "code",
   "execution_count": 67,
   "metadata": {},
   "outputs": [
    {
     "data": {
      "text/plain": [
       "<matplotlib.axes._subplots.AxesSubplot at 0x7faed767a240>"
      ]
     },
     "execution_count": 67,
     "metadata": {},
     "output_type": "execute_result"
    },
    {
     "data": {
      "image/png": "[encoded data removed]",
      "text/plain": [
       "<Figure size 432x288 with 1 Axes>"
      ]
     },
     "metadata": {
      "needs_background": "light"
     },
     "output_type": "display_data"
    }
   ],
   "source": [
    "sns.countplot(data=dataset, x='country_destination')"
   ]
  },
  {
   "cell_type": "code",
   "execution_count": 68,
   "metadata": {},
   "outputs": [
    {
     "name": "stdout",
     "output_type": "stream",
     "text": [
      "(207386, 16)\n",
      "(207386, 15)\n"
     ]
    }
   ],
   "source": [
    "df_uniques = dataset.set_index('id').drop_duplicates()\n",
    "print(dataset.shape)\n",
    "print(df_uniques.shape)"
   ]
  },
  {
   "cell_type": "markdown",
   "metadata": {},
   "source": [
    "No hay registros duplicados.\n"
   ]
  },
  {
   "cell_type": "code",
   "execution_count": 69,
   "metadata": {},
   "outputs": [
    {
     "data": {
      "text/plain": [
       "<matplotlib.axes._subplots.AxesSubplot at 0x7faed77e4c18>"
      ]
     },
     "execution_count": 69,
     "metadata": {},
     "output_type": "execute_result"
    },
    {
     "data": {
      "image/png": "[encoded data removed]",
      "text/plain": [
       "<Figure size 432x288 with 1 Axes>"
      ]
     },
     "metadata": {
      "needs_background": "light"
     },
     "output_type": "display_data"
    }
   ],
   "source": [
    "sns.countplot(data=dataset, x='gender')"
   ]
  },
  {
   "cell_type": "markdown",
   "metadata": {},
   "source": [
    "### Fix timestamps and datetype"
   ]
  },
  {
   "cell_type": "code",
   "execution_count": 70,
   "metadata": {},
   "outputs": [],
   "source": [
    "dcol = ['date_account_created','timestamp_first_active','date_first_booking']\n",
    "\n",
    "for i in dcol:\n",
    "    if 'timestamp' not in i:\n",
    "        dataset[i] = pd.to_datetime(dataset[i],format= '%Y-%m-%d')\n",
    "    else:\n",
    "        dataset[i] = pd.to_datetime(dataset[i],format='%Y-%m-%d %H:%M:%S') "
   ]
  },
  {
   "cell_type": "markdown",
   "metadata": {},
   "source": [
    "### Date_first_booking and country_destination\n",
    "Se puede confirmar que los destinos en NDF siempre pertenecen o aparecen frente a un date_first_booking nulo."
   ]
  },
  {
   "cell_type": "code",
   "execution_count": 71,
   "metadata": {},
   "outputs": [
    {
     "name": "stdout",
     "output_type": "stream",
     "text": [
      "Empty DataFrame\n",
      "Columns: [id, date_account_created, timestamp_first_active, date_first_booking, gender, age, signup_method, signup_flow, language, affiliate_channel, affiliate_provider, first_affiliate_tracked, signup_app, first_device_type, first_browser, country_destination]\n",
      "Index: []\n",
      "Empty DataFrame\n",
      "Columns: [id, date_account_created, timestamp_first_active, date_first_booking, gender, age, signup_method, signup_flow, language, affiliate_channel, affiliate_provider, first_affiliate_tracked, signup_app, first_device_type, first_browser, country_destination]\n",
      "Index: []\n"
     ]
    }
   ],
   "source": [
    "a = dataset[(dataset['date_first_booking'].isna() == True) & (dataset['country_destination'] != 'NDF')]\n",
    "b = dataset[(dataset['date_first_booking'].isna() == False) & (dataset['country_destination'] == 'NDF')]\n",
    "print(a)\n",
    "print(b)"
   ]
  },
  {
   "cell_type": "markdown",
   "metadata": {},
   "source": [
    "#### El dataset no es balanceado (como la mayoria de los casos) debido a que la mayoria de personas no ha realizado reserva alguna y figuran como NDF en country_destination. Para el resto de las personas que hicieron reservas se observa la mayor cantidad de personas con pais de destino US, mientras que los demas paises si los juntamos sumando sus totales llegan casi a la mitad de personas que reservan en US.\n",
    "\n",
    "#### Existen estrategias varias para afrontar un dataset desbalanceado. (https://towardsdatascience.com/having-an-imbalanced-dataset-here-is-how-you-can-solve-it-1640568947eb). Los metodos vistos son Resampling (Oversampling and Undersampling) y Ensembling Methods."
   ]
  },
  {
   "cell_type": "markdown",
   "metadata": {},
   "source": [
    "### Feature Correlation\n",
    "La matriz de correlacion nos mostrara entre las diferentes variables del dataset. Cada celda de la tabla muestra la correlacion que existe entre dos variables. Esta matriz se utiliza para sumarizar los datas y encontrar el QUE, que servira de input para entrar en un analisis avanzado.\n",
    "\n",
    "Primero que nada necesitamos pasar las variables categoricas a numericas."
   ]
  },
  {
   "cell_type": "code",
   "execution_count": 50,
   "metadata": {},
   "outputs": [
    {
     "name": "stdout",
     "output_type": "stream",
     "text": [
      "['-unknown-' 'FEMALE' 'MALE' 'OTHER'][0 1 2 3]\n",
      "['basic' 'facebook' 'google'][0 1 2]\n",
      "['ca' 'cs' 'da' 'de' 'el' 'en' 'es' 'fi' 'fr' 'hr' 'hu' 'id' 'is' 'it'\n",
      " 'ja' 'ko' 'nl' 'no' 'pl' 'pt' 'ru' 'sv' 'th' 'tr' 'zh'][ 0  1  2  3  4  5  6  7  8  9 10 11 12 13 14 15 16 17 18 19 20 21 22 23\n",
      " 24]\n",
      "['api' 'content' 'direct' 'other' 'remarketing' 'sem-brand'\n",
      " 'sem-non-brand' 'seo'][0 1 2 3 4 5 6 7]\n",
      "['baidu' 'bing' 'craigslist' 'daum' 'direct' 'email-marketing' 'facebook'\n",
      " 'facebook-open-graph' 'google' 'gsp' 'meetup' 'naver' 'other' 'padmapper'\n",
      " 'vast' 'wayn' 'yahoo' 'yandex'][ 0  1  2  3  4  5  6  7  8  9 10 11 12 13 14 15 16 17]\n",
      "['linked' 'local ops' 'marketing' 'omg' 'product' 'tracked-other'\n",
      " 'untracked'][0 1 2 3 4 5 6]\n",
      "['Android' 'Moweb' 'Web' 'iOS'][0 1 2 3]\n",
      "['Android Phone' 'Android Tablet' 'Desktop (Other)' 'Mac Desktop'\n",
      " 'Other/Unknown' 'SmartPhone (Other)' 'Windows Desktop' 'iPad' 'iPhone'][0 1 2 3 4 5 6 7 8]\n",
      "['-unknown-' 'AOL Explorer' 'Android Browser' 'Apple Mail' 'Arora'\n",
      " 'Avant Browser' 'BlackBerry Browser' 'Camino' 'Chrome' 'Chrome Mobile'\n",
      " 'Chromium' 'CometBird' 'Comodo Dragon' 'Conkeror' 'CoolNovo'\n",
      " 'Crazy Browser' 'Epic' 'Firefox' 'Flock' 'Google Earth' 'Googlebot' 'IE'\n",
      " 'IE Mobile' 'IceDragon' 'IceWeasel' 'Iron' 'Kindle Browser' 'Maxthon'\n",
      " 'Mobile Firefox' 'Mobile Safari' 'Mozilla' 'NetNewsWire' 'OmniWeb'\n",
      " 'Opera' 'Opera Mini' 'Opera Mobile' 'Outlook 2007' 'PS Vita browser'\n",
      " 'Pale Moon' 'Palm Pre web browser' 'RockMelt' 'Safari' 'SeaMonkey' 'Silk'\n",
      " 'SiteKiosk' 'SlimBrowser' 'Sogou Explorer' 'Stainless' 'TenFourFox'\n",
      " 'TheWorld Browser' 'Yandex.Browser' 'wOSBrowser'][ 0  1  2  3  4  5  6  7  8  9 10 11 12 13 14 15 16 17 18 19 20 21 22 23\n",
      " 24 25 26 27 28 29 30 31 32 33 34 35 36 37 38 39 40 41 42 43 44 45 46 47\n",
      " 48 49 50 51]\n",
      "['AU' 'CA' 'DE' 'ES' 'FR' 'GB' 'IT' 'NDF' 'NL' 'PT' 'US' 'other'][ 0  1  2  3  4  5  6  7  8  9 10 11]\n"
     ]
    }
   ],
   "source": [
    "# sklearn.preprocessing.LabelEncoder\n",
    "le = preprocessing.LabelEncoder()\n",
    "df_le = dataset\n",
    "for col in df_le.columns :\n",
    "    if col not in ('id','age','signup_flow','date_account_created','timestamp_first_active', 'date_first_booking'):\n",
    "        le.fit(df_le[col])\n",
    "        print(f'{le.classes_}{le.transform(le.classes_)}')\n",
    "        df_le[col]=le.transform(df_le[col])\n"
   ]
  },
  {
   "cell_type": "code",
   "execution_count": 51,
   "metadata": {},
   "outputs": [
    {
     "data": {
      "image/png": "[encoded data removed]",
      "text/plain": [
       "<Figure size 1080x864 with 2 Axes>"
      ]
     },
     "metadata": {
      "needs_background": "light"
     },
     "output_type": "display_data"
    }
   ],
   "source": [
    "# Sample figsize in inches\n",
    "fig, ax = plt.subplots(figsize=(15,12))   \n",
    "# Imbalanced DataFrame Correlation\n",
    "corr = df_le.corr()\n",
    "sns.heatmap(corr, cmap='Blues', annot_kws={'size':30}, ax=ax)\n",
    "ax.set_title(\"Imbalanced Correlation Matrix\", fontsize=14)\n",
    "\n",
    "plt.show()"
   ]
  },
  {
   "cell_type": "markdown",
   "metadata": {},
   "source": [
    "#### El heatmap muestra unas posibles relaciones. Por ejemplo entre el metodo de registracion y el genero, entre affiliate_provider y el affiliate_channel, o entre signup_app y  first_device_type."
   ]
  },
  {
   "cell_type": "markdown",
   "metadata": {},
   "source": [
    "---\n",
    "## Ejercicio 1: División de datos en conjuntos de entrenamiento y evaluación\n",
    "\n",
    "La primer tarea consiste en dividir el conjunto de datos cargados en el apartado anterior en conjuntos de entrenamiento (o `training`) y evaluación (o `test`). El primero será utilizado para la creación/selección del modelo de clasificación. El segundo se utilizará sólo al final (una vez elegidos los mejores hiperparámetros) para ver cuál es el resultado final del modelo sobre un conjunto de datos independiente.\n",
    "\n",
    "material de apoyo(https://towardsdatascience.com/train-test-split-and-cross-validation-in-python-80b61beca4b6)"
   ]
  },
  {
   "cell_type": "code",
   "execution_count": 52,
   "metadata": {},
   "outputs": [],
   "source": [
    "import pandas as pd\n",
    "from sklearn import datasets, linear_model\n",
    "from sklearn.model_selection import train_test_split\n",
    "from matplotlib import pyplot as plt\n",
    "\n",
    "#define the target variable\n",
    "y = df_le.country_destination"
   ]
  },
  {
   "cell_type": "code",
   "execution_count": 53,
   "metadata": {},
   "outputs": [
    {
     "name": "stdout",
     "output_type": "stream",
     "text": [
      "(165908, 16) (165908,)\n",
      "(41478, 16) (41478,)\n"
     ]
    }
   ],
   "source": [
    "#create training and testing vars\n",
    "X_train, X_test, y_train, y_test = train_test_split(df_le, y, test_size=0.2)\n",
    "print(X_train.shape, y_train.shape)\n",
    "print(X_test.shape, y_test.shape)"
   ]
  },
  {
   "cell_type": "markdown",
   "metadata": {},
   "source": [
    "#### "
   ]
  },
  {
   "cell_type": "markdown",
   "metadata": {},
   "source": [
    "---\n",
    "## Ejercicio 2: Elección de un modelo\n",
    "\n",
    "Basándose en lo visto en el teórico escojan y justifiquen un modelo de aprendizaje automático. Recuerden que los pasos para elegir un modelo son:\n",
    "\n",
    "1. Selección de hipótesis.\n",
    "2. Selección de regularizador.\n",
    "3. Selección de función de coste.\n",
    "\n",
    "__TODO__: Justifica tus selecciones anteriores.\n",
    "\n",
    "__HINT__: Deben tener en cuenta que __NO__ se trata de una `clasificación binaria`."
   ]
  },
  {
   "cell_type": "markdown",
   "metadata": {},
   "source": [
    "1- Hipotesis nula: No existe relacion entre la plataforma usada para registrarse y el genero. \\\n",
    "   Hipotesis alternativa: Existe relacion entre la plataforma usada para registrarse y el genero.\n",
    "   \n",
    "Se asume un nivel de significacion alpha = 0.05"
   ]
  },
  {
   "cell_type": "code",
   "execution_count": 105,
   "metadata": {},
   "outputs": [],
   "source": [
    "df_2genders = dataset.drop(dataset[dataset['gender'] == '-unknown-'].index)"
   ]
  },
  {
   "cell_type": "code",
   "execution_count": 106,
   "metadata": {},
   "outputs": [],
   "source": [
    "df_2genders = df_2genders.drop(dataset[dataset['gender'] == 'OTHER'].index)"
   ]
  },
  {
   "cell_type": "code",
   "execution_count": 117,
   "metadata": {},
   "outputs": [
    {
     "data": {
      "text/plain": [
       "2"
      ]
     },
     "execution_count": 117,
     "metadata": {},
     "output_type": "execute_result"
    }
   ],
   "source": [
    "df_2genders.gender.nunique()"
   ]
  },
  {
   "cell_type": "code",
   "execution_count": 118,
   "metadata": {},
   "outputs": [
    {
     "data": {
      "text/html": [
       "<div>\n",
       "<style scoped>\n",
       "    .dataframe tbody tr th:only-of-type {\n",
       "        vertical-align: middle;\n",
       "    }\n",
       "\n",
       "    .dataframe tbody tr th {\n",
       "        vertical-align: top;\n",
       "    }\n",
       "\n",
       "    .dataframe thead th {\n",
       "        text-align: right;\n",
       "    }\n",
       "</style>\n",
       "<table border=\"1\" class=\"dataframe\">\n",
       "  <thead>\n",
       "    <tr style=\"text-align: right;\">\n",
       "      <th></th>\n",
       "      <th>basic</th>\n",
       "      <th>facebook</th>\n",
       "      <th>google</th>\n",
       "    </tr>\n",
       "    <tr>\n",
       "      <th>gender</th>\n",
       "      <th></th>\n",
       "      <th></th>\n",
       "      <th></th>\n",
       "    </tr>\n",
       "  </thead>\n",
       "  <tbody>\n",
       "    <tr>\n",
       "      <th>FEMALE</th>\n",
       "      <td>32466</td>\n",
       "      <td>29480</td>\n",
       "      <td>32</td>\n",
       "    </tr>\n",
       "    <tr>\n",
       "      <th>MALE</th>\n",
       "      <td>25641</td>\n",
       "      <td>27637</td>\n",
       "      <td>69</td>\n",
       "    </tr>\n",
       "  </tbody>\n",
       "</table>\n",
       "</div>"
      ],
      "text/plain": [
       "        basic  facebook  google\n",
       "gender                         \n",
       "FEMALE  32466     29480      32\n",
       "MALE    25641     27637      69"
      ]
     },
     "execution_count": 118,
     "metadata": {},
     "output_type": "execute_result"
    }
   ],
   "source": [
    "obs = df_2genders.pivot_table('id',['gender'], 'signup_method', aggfunc='count').reset_index()\n",
    "del obs.columns.name\n",
    "obs = obs.set_index('gender')\n",
    "obs"
   ]
  },
  {
   "cell_type": "markdown",
   "metadata": {},
   "source": [
    "### Chi cuadrada"
   ]
  },
  {
   "cell_type": "code",
   "execution_count": 119,
   "metadata": {},
   "outputs": [],
   "source": [
    "from scipy import stats\n",
    "chi2, p, dof, expected = stats.chi2_contingency(obs)"
   ]
  },
  {
   "cell_type": "code",
   "execution_count": 123,
   "metadata": {},
   "outputs": [
    {
     "data": {
      "text/plain": [
       "(229.99650403657452, 2, 1.139970781044285e-50)"
      ]
     },
     "execution_count": 123,
     "metadata": {},
     "output_type": "execute_result"
    }
   ],
   "source": [
    "chi2, dof, p"
   ]
  },
  {
   "cell_type": "markdown",
   "metadata": {},
   "source": [
    "Segun los valores de p y significancia debemos rechazar la hipotesis nula. Por lo tanto Existe relacion entre la plataforma usada para registrarse y el genero."
   ]
  },
  {
   "cell_type": "code",
   "execution_count": 55,
   "metadata": {
    "collapsed": true,
    "jupyter": {
     "outputs_hidden": true
    }
   },
   "outputs": [
    {
     "ename": "ValueError",
     "evalue": "could not convert string to float: 'x8g92lpfpf'",
     "output_type": "error",
     "traceback": [
      "\u001b[0;31m---------------------------------------------------------------------------\u001b[0m",
      "\u001b[0;31mValueError\u001b[0m                                Traceback (most recent call last)",
      "\u001b[0;32m<ipython-input-55-1ab8082692a8>\u001b[0m in \u001b[0;36m<module>\u001b[0;34m\u001b[0m\n\u001b[1;32m      1\u001b[0m \u001b[0;31m# fit a model\u001b[0m\u001b[0;34m\u001b[0m\u001b[0;34m\u001b[0m\u001b[0;34m\u001b[0m\u001b[0m\n\u001b[1;32m      2\u001b[0m \u001b[0mlm\u001b[0m \u001b[0;34m=\u001b[0m \u001b[0mlinear_model\u001b[0m\u001b[0;34m.\u001b[0m\u001b[0mLinearRegression\u001b[0m\u001b[0;34m(\u001b[0m\u001b[0;34m)\u001b[0m\u001b[0;34m\u001b[0m\u001b[0;34m\u001b[0m\u001b[0m\n\u001b[0;32m----> 3\u001b[0;31m \u001b[0mmodel\u001b[0m \u001b[0;34m=\u001b[0m \u001b[0mlm\u001b[0m\u001b[0;34m.\u001b[0m\u001b[0mfit\u001b[0m\u001b[0;34m(\u001b[0m\u001b[0mX_train\u001b[0m\u001b[0;34m,\u001b[0m \u001b[0my_train\u001b[0m\u001b[0;34m)\u001b[0m\u001b[0;34m\u001b[0m\u001b[0;34m\u001b[0m\u001b[0m\n\u001b[0m\u001b[1;32m      4\u001b[0m \u001b[0mpredictions\u001b[0m \u001b[0;34m=\u001b[0m \u001b[0mlm\u001b[0m\u001b[0;34m.\u001b[0m\u001b[0mpredict\u001b[0m\u001b[0;34m(\u001b[0m\u001b[0mX_test\u001b[0m\u001b[0;34m)\u001b[0m\u001b[0;34m\u001b[0m\u001b[0;34m\u001b[0m\u001b[0m\n",
      "\u001b[0;32m/root/anaconda3/lib/python3.7/site-packages/sklearn/linear_model/base.py\u001b[0m in \u001b[0;36mfit\u001b[0;34m(self, X, y, sample_weight)\u001b[0m\n\u001b[1;32m    461\u001b[0m         \u001b[0mn_jobs_\u001b[0m \u001b[0;34m=\u001b[0m \u001b[0mself\u001b[0m\u001b[0;34m.\u001b[0m\u001b[0mn_jobs\u001b[0m\u001b[0;34m\u001b[0m\u001b[0;34m\u001b[0m\u001b[0m\n\u001b[1;32m    462\u001b[0m         X, y = check_X_y(X, y, accept_sparse=['csr', 'csc', 'coo'],\n\u001b[0;32m--> 463\u001b[0;31m                          y_numeric=True, multi_output=True)\n\u001b[0m\u001b[1;32m    464\u001b[0m \u001b[0;34m\u001b[0m\u001b[0m\n\u001b[1;32m    465\u001b[0m         \u001b[0;32mif\u001b[0m \u001b[0msample_weight\u001b[0m \u001b[0;32mis\u001b[0m \u001b[0;32mnot\u001b[0m \u001b[0;32mNone\u001b[0m \u001b[0;32mand\u001b[0m \u001b[0mnp\u001b[0m\u001b[0;34m.\u001b[0m\u001b[0matleast_1d\u001b[0m\u001b[0;34m(\u001b[0m\u001b[0msample_weight\u001b[0m\u001b[0;34m)\u001b[0m\u001b[0;34m.\u001b[0m\u001b[0mndim\u001b[0m \u001b[0;34m>\u001b[0m \u001b[0;36m1\u001b[0m\u001b[0;34m:\u001b[0m\u001b[0;34m\u001b[0m\u001b[0;34m\u001b[0m\u001b[0m\n",
      "\u001b[0;32m/root/anaconda3/lib/python3.7/site-packages/sklearn/utils/validation.py\u001b[0m in \u001b[0;36mcheck_X_y\u001b[0;34m(X, y, accept_sparse, accept_large_sparse, dtype, order, copy, force_all_finite, ensure_2d, allow_nd, multi_output, ensure_min_samples, ensure_min_features, y_numeric, warn_on_dtype, estimator)\u001b[0m\n\u001b[1;32m    717\u001b[0m                     \u001b[0mensure_min_features\u001b[0m\u001b[0;34m=\u001b[0m\u001b[0mensure_min_features\u001b[0m\u001b[0;34m,\u001b[0m\u001b[0;34m\u001b[0m\u001b[0;34m\u001b[0m\u001b[0m\n\u001b[1;32m    718\u001b[0m                     \u001b[0mwarn_on_dtype\u001b[0m\u001b[0;34m=\u001b[0m\u001b[0mwarn_on_dtype\u001b[0m\u001b[0;34m,\u001b[0m\u001b[0;34m\u001b[0m\u001b[0;34m\u001b[0m\u001b[0m\n\u001b[0;32m--> 719\u001b[0;31m                     estimator=estimator)\n\u001b[0m\u001b[1;32m    720\u001b[0m     \u001b[0;32mif\u001b[0m \u001b[0mmulti_output\u001b[0m\u001b[0;34m:\u001b[0m\u001b[0;34m\u001b[0m\u001b[0;34m\u001b[0m\u001b[0m\n\u001b[1;32m    721\u001b[0m         y = check_array(y, 'csr', force_all_finite=True, ensure_2d=False,\n",
      "\u001b[0;32m/root/anaconda3/lib/python3.7/site-packages/sklearn/utils/validation.py\u001b[0m in \u001b[0;36mcheck_array\u001b[0;34m(array, accept_sparse, accept_large_sparse, dtype, order, copy, force_all_finite, ensure_2d, allow_nd, ensure_min_samples, ensure_min_features, warn_on_dtype, estimator)\u001b[0m\n\u001b[1;32m    534\u001b[0m         \u001b[0;31m# make sure we actually converted to numeric:\u001b[0m\u001b[0;34m\u001b[0m\u001b[0;34m\u001b[0m\u001b[0;34m\u001b[0m\u001b[0m\n\u001b[1;32m    535\u001b[0m         \u001b[0;32mif\u001b[0m \u001b[0mdtype_numeric\u001b[0m \u001b[0;32mand\u001b[0m \u001b[0marray\u001b[0m\u001b[0;34m.\u001b[0m\u001b[0mdtype\u001b[0m\u001b[0;34m.\u001b[0m\u001b[0mkind\u001b[0m \u001b[0;34m==\u001b[0m \u001b[0;34m\"O\"\u001b[0m\u001b[0;34m:\u001b[0m\u001b[0;34m\u001b[0m\u001b[0;34m\u001b[0m\u001b[0m\n\u001b[0;32m--> 536\u001b[0;31m             \u001b[0marray\u001b[0m \u001b[0;34m=\u001b[0m \u001b[0marray\u001b[0m\u001b[0;34m.\u001b[0m\u001b[0mastype\u001b[0m\u001b[0;34m(\u001b[0m\u001b[0mnp\u001b[0m\u001b[0;34m.\u001b[0m\u001b[0mfloat64\u001b[0m\u001b[0;34m)\u001b[0m\u001b[0;34m\u001b[0m\u001b[0;34m\u001b[0m\u001b[0m\n\u001b[0m\u001b[1;32m    537\u001b[0m         \u001b[0;32mif\u001b[0m \u001b[0;32mnot\u001b[0m \u001b[0mallow_nd\u001b[0m \u001b[0;32mand\u001b[0m \u001b[0marray\u001b[0m\u001b[0;34m.\u001b[0m\u001b[0mndim\u001b[0m \u001b[0;34m>=\u001b[0m \u001b[0;36m3\u001b[0m\u001b[0;34m:\u001b[0m\u001b[0;34m\u001b[0m\u001b[0;34m\u001b[0m\u001b[0m\n\u001b[1;32m    538\u001b[0m             raise ValueError(\"Found array with dim %d. %s expected <= 2.\"\n",
      "\u001b[0;31mValueError\u001b[0m: could not convert string to float: 'x8g92lpfpf'"
     ]
    }
   ],
   "source": [
    "# fit a model\n",
    "lm = linear_model.LinearRegression()\n",
    "model = lm.fit(X_train, y_train)\n",
    "predictions = lm.predict(X_test)"
   ]
  },
  {
   "cell_type": "markdown",
   "metadata": {},
   "source": [
    "---\n",
    "## Ejercicio 3: Selección de hiperparámetros\n",
    "\n",
    "Utilizando búsqueda exhaustiva (`grid search`) y métrica del área bajo la curva de ROC (o *ROC-AUC*), hagan una selección de los mejores hiperparámetros para su conjunto de datos y el modelo que hayan elegido en el apartado anterior."
   ]
  },
  {
   "cell_type": "code",
   "execution_count": null,
   "metadata": {},
   "outputs": [],
   "source": []
  },
  {
   "cell_type": "markdown",
   "metadata": {},
   "source": [
    "---\n",
    "## Ejercicio 4: Métricas sobre el conjunto de evaluación\n",
    "\n",
    "Una vez encontrados los mejores hiperparámetros para el modelo seleccionado en los apartados anteriores se evalúa el modelo final entrenado sobre el conjunto de datos de evaluación seleccionado en el __Ejercicio 1__. \n",
    "\n",
    "* Pueden utilizar las métricas que crean convenientes. \n",
    "* Es mejor utilizar más de una métrica. \n",
    "* Particularmente el __reporte de clasificación__ y la __matriz de confusión__ son buenos ejemplos de métricas."
   ]
  },
  {
   "cell_type": "code",
   "execution_count": null,
   "metadata": {},
   "outputs": [],
   "source": []
  },
  {
   "cell_type": "markdown",
   "metadata": {},
   "source": [
    "---\n",
    "## Ejercicio 5 (opcional): Curvas de ROC\n",
    "\n",
    "Como ejercicio adicional (opcional), pueden redefinir el umbral de decisión óptimo del problema a partir de los resultados que muestren curvas de ROC como justificación. \n",
    "\n",
    "Pueden ver esto mediante la [graficación de las curvas de ROC](http://scikit-learn.org/stable/auto_examples/model_selection/plot_roc.html). En el link que se les brinda se muestra como hacer para graficar curvas de ROC para problemas multiclase. "
   ]
  },
  {
   "cell_type": "code",
   "execution_count": null,
   "metadata": {},
   "outputs": [],
   "source": []
  },
  {
   "cell_type": "markdown",
   "metadata": {},
   "source": [
    "---\n",
    "## ¿Conclusiones?"
   ]
  },
  {
   "cell_type": "code",
   "execution_count": null,
   "metadata": {},
   "outputs": [],
   "source": []
  }
 ],
 "metadata": {
  "kernelspec": {
   "display_name": "Python 3",
   "language": "python",
   "name": "python3"
  },
  "language_info": {
   "codemirror_mode": {
    "name": "ipython",
    "version": 3
   },
   "file_extension": ".py",
   "mimetype": "text/x-python",
   "name": "python",
   "nbconvert_exporter": "python",
   "pygments_lexer": "ipython3",
   "version": "3.7.3"
  }
 },
 "nbformat": 4,
 "nbformat_minor": 4
}
